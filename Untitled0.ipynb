{
  "nbformat": 4,
  "nbformat_minor": 0,
  "metadata": {
    "colab": {
      "provenance": [],
      "authorship_tag": "ABX9TyMnP40gJ61lHHjrGFnjyqVy",
      "include_colab_link": true
    },
    "kernelspec": {
      "name": "python3",
      "display_name": "Python 3"
    },
    "language_info": {
      "name": "python"
    }
  },
  "cells": [
    {
      "cell_type": "markdown",
      "metadata": {
        "id": "view-in-github",
        "colab_type": "text"
      },
      "source": [
        "<a href=\"https://colab.research.google.com/github/Boubacar5400/Mon_projet_ML/blob/main/Untitled0.ipynb\" target=\"_parent\"><img src=\"https://colab.research.google.com/assets/colab-badge.svg\" alt=\"Open In Colab\"/></a>"
      ]
    },
    {
      "cell_type": "code",
      "execution_count": null,
      "metadata": {
        "colab": {
          "base_uri": "https://localhost:8080/",
          "height": 295
        },
        "id": "W-osKCdvzb8h",
        "outputId": "9505a7a6-07df-430d-8ea0-6dbe20de9208"
      },
      "outputs": [
        {
          "output_type": "display_data",
          "data": {
            "text/plain": [
              "<Figure size 432x288 with 1 Axes>"
            ],
            "image/png": "[encoded data removed]"
          },
          "metadata": {
            "needs_background": "light"
          }
        }
      ],
      "source": [
        "import numpy as np\n",
        "import matplotlib.pyplot as plt\n",
        "\n",
        "# Set parameters\n",
        "n = 0.02     # population growth rate\n",
        "s = 0.3      # savings rate\n",
        "d = 0.05     # depreciation rate\n",
        "alpha = 0.3  # capital's share of income\n",
        "A = 1        # total factor productivity\n",
        "\n",
        "# Set initial conditions\n",
        "k0 = 4       # initial capital stock per worker\n",
        "t0 = 0       # initial time\n",
        "T = 100      # total time\n",
        "\n",
        "# Define the Solow growth model\n",
        "def solow(k, t):\n",
        "    \"\"\"Computes the change in capital per worker over time.\"\"\"\n",
        "    return s*A*(k**alpha) - (n+d)*k\n",
        "\n",
        "# Create a time grid\n",
        "t_values = np.arange(t0, T+1)\n",
        "\n",
        "# Create an array to store the capital stock per worker over time\n",
        "k_values = np.zeros(T+1)\n",
        "k_values[0] = k0\n",
        "\n",
        "# Apply the Solow growth model iteratively\n",
        "for i in range(T):\n",
        "    k_values[i+1] = k_values[i] + solow(k_values[i], t_values[i])\n",
        "\n",
        "# Plot the results\n",
        "plt.plot(t_values, k_values)\n",
        "plt.xlabel('Time')\n",
        "plt.ylabel('Capital stock per worker')\n",
        "plt.title('Solow model')\n",
        "plt.show()\n"
      ]
    },
    {
      "cell_type": "code",
      "source": [
        "import statsmodels.api as sm\n",
        "\n",
        "# Charger les données\n",
        "data = sm.datasets.get_rdataset('iris').data\n",
        "data['is_virginica'] = (data['Species'] == 'virginica').astype(int)\n",
        "\n",
        "# Spécifier le modèle\n",
        "y = data['is_virginica']\n",
        "X = sm.add_constant(data[['Sepal.Length', 'Sepal.Width', 'Petal.Length', 'Petal.Width']])\n",
        "logit_model = sm.Logit(y, X)\n",
        "\n",
        "# Estimer le modèle\n",
        "result = logit_model.fit()\n",
        "\n",
        "# Afficher les résultats\n",
        "print(result.summary())\n",
        "print(result.summary().as_latex())\n",
        "\n"
      ],
      "metadata": {
        "colab": {
          "base_uri": "https://localhost:8080/"
        },
        "id": "j0zQDijdrrpE",
        "outputId": "6fc82c65-796e-4563-dd0c-e414e3e970d3"
      },
      "execution_count": null,
      "outputs": [
        {
          "output_type": "stream",
          "name": "stdout",
          "text": [
            "Optimization terminated successfully.\n",
            "         Current function value: 0.039662\n",
            "         Iterations 14\n",
            "                           Logit Regression Results                           \n",
            "==============================================================================\n",
            "Dep. Variable:           is_virginica   No. Observations:                  150\n",
            "Model:                          Logit   Df Residuals:                      145\n",
            "Method:                           MLE   Df Model:                            4\n",
            "Date:                Thu, 23 May 2024   Pseudo R-squ.:                  0.9377\n",
            "Time:                        00:22:29   Log-Likelihood:                -5.9493\n",
            "converged:                       True   LL-Null:                       -95.477\n",
            "Covariance Type:            nonrobust   LLR p-value:                 1.189e-37\n",
            "================================================================================\n",
            "                   coef    std err          z      P>|z|      [0.025      0.975]\n",
            "--------------------------------------------------------------------------------\n",
            "const          -42.6378     25.708     -1.659      0.097     -93.024       7.748\n",
            "Sepal.Length    -2.4652      2.394     -1.030      0.303      -7.158       2.228\n",
            "Sepal.Width     -6.6809      4.480     -1.491      0.136     -15.461       2.099\n",
            "Petal.Length     9.4294      4.737      1.990      0.047       0.145      18.714\n",
            "Petal.Width     18.2861      9.743      1.877      0.061      -0.809      37.381\n",
            "================================================================================\n",
            "\n",
            "Possibly complete quasi-separation: A fraction 0.73 of observations can be\n",
            "perfectly predicted. This might indicate that there is complete\n",
            "quasi-separation. In this case some parameters will not be identified.\n",
            "\\begin{center}\n",
            "\\begin{tabular}{lclc}\n",
            "\\toprule\n",
            "\\textbf{Dep. Variable:}   &  is\\_virginica   & \\textbf{  No. Observations:  } &      150    \\\\\n",
            "\\textbf{Model:}           &      Logit       & \\textbf{  Df Residuals:      } &      145    \\\\\n",
            "\\textbf{Method:}          &       MLE        & \\textbf{  Df Model:          } &        4    \\\\\n",
            "\\textbf{Date:}            & Thu, 23 May 2024 & \\textbf{  Pseudo R-squ.:     } &   0.9377    \\\\\n",
            "\\textbf{Time:}            &     00:22:29     & \\textbf{  Log-Likelihood:    } &   -5.9493   \\\\\n",
            "\\textbf{converged:}       &       True       & \\textbf{  LL-Null:           } &   -95.477   \\\\\n",
            "\\textbf{Covariance Type:} &    nonrobust     & \\textbf{  LLR p-value:       } & 1.189e-37   \\\\\n",
            "\\bottomrule\n",
            "\\end{tabular}\n",
            "\\begin{tabular}{lcccccc}\n",
            "                      & \\textbf{coef} & \\textbf{std err} & \\textbf{z} & \\textbf{P$> |$z$|$} & \\textbf{[0.025} & \\textbf{0.975]}  \\\\\n",
            "\\midrule\n",
            "\\textbf{const}        &     -42.6378  &       25.708     &    -1.659  &         0.097        &      -93.024    &        7.748     \\\\\n",
            "\\textbf{Sepal.Length} &      -2.4652  &        2.394     &    -1.030  &         0.303        &       -7.158    &        2.228     \\\\\n",
            "\\textbf{Sepal.Width}  &      -6.6809  &        4.480     &    -1.491  &         0.136        &      -15.461    &        2.099     \\\\\n",
            "\\textbf{Petal.Length} &       9.4294  &        4.737     &     1.990  &         0.047        &        0.145    &       18.714     \\\\\n",
            "\\textbf{Petal.Width}  &      18.2861  &        9.743     &     1.877  &         0.061        &       -0.809    &       37.381     \\\\\n",
            "\\bottomrule\n",
            "\\end{tabular}\n",
            "%\\caption{Logit Regression Results}\n",
            "\\end{center}\n",
            "\n",
            "Possibly complete quasi-separation: A fraction 0.73 of observations can be \\newline\n",
            " perfectly predicted. This might indicate that there is complete \\newline\n",
            " quasi-separation. In this case some parameters will not be identified.\n"
          ]
        }
      ]
    },
    {
      "cell_type": "code",
      "source": [],
      "metadata": {
        "id": "RkgH1nMjiHup"
      },
      "execution_count": null,
      "outputs": []
    },
    {
      "cell_type": "code",
      "source": [],
      "metadata": {
        "id": "zWZAybN3GEA4"
      },
      "execution_count": null,
      "outputs": []
    },
    {
      "cell_type": "markdown",
      "source": [
        "# BIEN\n"
      ],
      "metadata": {
        "id": "TlAieJtbz94N"
      }
    },
    {
      "cell_type": "code",
      "source": [
        "import numpy as np\n",
        "import matplotlib.pyplot as plt\n",
        "\n",
        "# Set parameters\n",
        "n = 0.02     # population growth rate\n",
        "s = 0.3      # savings rate\n",
        "d = 0.05     # depreciation rate\n",
        "alpha = 0.3  # capital's share of income\n",
        "A = 1        # total factor productivity\n",
        "g = 0.02     # growth rate of technology\n",
        "beta = 0.9   # discount factor\n",
        "delta = 0.1  # share of output devoted to investment\n",
        "tau = 0.2    # tax rate\n",
        "G = 0.1      # government spending\n",
        "\n",
        "# Set initial conditions\n",
        "k0 = 4       # initial capital stock per worker\n",
        "c0 = 0.6     # initial consumption per worker\n",
        "t0 = 0       # initial time\n",
        "T = 100      # total time\n",
        "\n",
        "# Define the macroeconomic dynamic model\n",
        "def macro(k, c, t):\n",
        "    \"\"\"Computes the change in capital and consumption per worker over time.\"\"\"\n",
        "    y = A*(k**alpha)     # output per worker\n",
        "    i = delta*y         # investment per worker\n",
        "    r = alpha*A*(k**(alpha-1))    # real interest rate\n",
        "    c_next = (1-tau)*(1+n)*(c + y - i) - G   # next period consumption\n",
        "    k_next = (1-d)*k + i   # next period capital stock\n",
        "    return k_next, c_next\n",
        "\n",
        "# Create a time grid\n",
        "t_values = np.arange(t0, T+1)\n",
        "\n",
        "# Create arrays to store the capital and consumption per worker over time\n",
        "k_values = np.zeros(T+1)\n",
        "c_values = np.zeros(T+1)\n",
        "k_values[0] = k0\n",
        "c_values[0] = c0\n",
        "\n",
        "# Apply the macroeconomic dynamic model iteratively\n",
        "for i in range(T):\n",
        "    k_values[i+1], c_values[i+1] = macro(k_values[i], c_values[i], t_values[i])\n",
        "\n",
        "# Compute the discount factor\n",
        "discount_factor = beta**t_values\n",
        "\n",
        "# Compute the present discounted value of consumption\n",
        "pdv_c = np.sum(discount_factor*c_values)\n",
        "\n",
        "# Compute the present discounted value of investment\n",
        "pdv_i = np.sum(discount_factor*delta*A*(k_values**alpha))\n",
        "\n",
        "# Plot the results\n",
        "plt.plot(t_values, k_values, label='Capital stock per worker')\n",
        "plt.plot(t_values, c_values, label='Consumption per worker')\n",
        "plt.xlabel('Time')\n",
        "plt.ylabel('Per worker')\n",
        "plt.title('Macroeconomic dynamic model')\n",
        "plt.legend()\n",
        "plt.show()\n",
        "\n",
        "print(f\"Present discounted value of consumption: {pdv_c:.2f}\")\n",
        "print(f\"Present discounted value of investment: {pdv_i:.2f}\")\n"
      ],
      "metadata": {
        "colab": {
          "base_uri": "https://localhost:8080/",
          "height": 330
        },
        "id": "ckhYwhvZ5czH",
        "outputId": "d9aee0a1-72f9-4270-c879-2625f4e2aac2"
      },
      "execution_count": null,
      "outputs": [
        {
          "output_type": "display_data",
          "data": {
            "text/plain": [
              "<Figure size 432x288 with 1 Axes>"
            ],
            "image/png": "[encoded data removed]"
          },
          "metadata": {
            "needs_background": "light"
          }
        },
        {
          "output_type": "stream",
          "name": "stdout",
          "text": [
            "Present discounted value of consumption: 35.62\n",
            "Present discounted value of investment: 1.48\n"
          ]
        }
      ]
    },
    {
      "cell_type": "code",
      "source": [
        "# Données de l'opération\n",
        "nb_generations = 24\n",
        "valeur_faciale = 600\n",
        "discount = 0.023\n",
        "parts_senior = 0.74\n",
        "parts_mezzanine = 0.22\n",
        "parts_junior = 0.04\n",
        "fee = 3000\n",
        "taux_coupon_senior = 0.0054\n",
        "taux_coupon_mezzanine = 0.014\n",
        "taux_coupon_junior = 0.05\n",
        "excess_spread = 0\n",
        "\n",
        "# Calcul de la rémunération totale de la part Junior\n",
        "for i in range(nb_generations):\n",
        "    # Calcul du rendement moyen des créances\n",
        "    paiements = [0.64*valeur_faciale, 0.19*valeur_faciale, 0.07*valeur_faciale,\n",
        "                 0.03*valeur_faciale, 0.03*valeur_faciale, 0.003*valeur_faciale]*6\n",
        "    somme_paiements = sum(paiements[:i*6+6])\n",
        "    valeur_faciale_totale = (i+1)*valeur_faciale\n",
        "    rendement_moyen = somme_paiements / valeur_faciale_totale\n",
        "\n",
        "    # Calcul de l'intérêt total versé aux parts Senior et Mezzanine\n",
        "    achat = valeur_faciale_totale * (1-discount)\n",
        "    interet_senior = achat * parts_senior * taux_coupon_senior\n",
        "    interet_mezzanine = achat * parts_mezzanine * taux_coupon_mezzanine\n",
        "    interet_total = interet_senior + interet_mezzanine\n",
        "\n",
        "    # Calcul de l'Excess Spread et de la rémunération totale de la part Junior\n",
        "    excess_spread += rendement_moyen - interet_total\n",
        "    remuneration_junior = 0.05 + excess_spread\n",
        "\n",
        "print(\"La rémunération totale de la part Junior sur l'opération est : \", round(remuneration_junior*100, 2), \"%\")\n",
        "\n"
      ],
      "metadata": {
        "colab": {
          "base_uri": "https://localhost:8080/"
        },
        "id": "vfjnpW6d_qi-",
        "outputId": "0a621cf6-6711-4af5-e523-b54a933321b4"
      },
      "execution_count": null,
      "outputs": [
        {
          "output_type": "stream",
          "name": "stdout",
          "text": [
            "La rémunération totale de la part Junior sur l'opération est :  -123089.6 %\n"
          ]
        }
      ]
    },
    {
      "cell_type": "code",
      "source": [
        "# Données annuelles\n",
        "annee = [2019, 2020, 2021]\n",
        "valeurs_annuelles = [100, 120, 150]\n",
        "\n",
        "# Conversion en données trimestrielles par réplication\n",
        "valeurs_trimestrielles = []\n",
        "for i in range(len(annee)):\n",
        "    for j in range(4):\n",
        "        valeurs_trimestrielles.append(valeurs_annuelles[i]/4)\n",
        "\n",
        "# Afficher les résultats\n",
        "print(\"Données annuelles:\", valeurs_annuelles)\n",
        "print(\"Données trimestrielles (méthode de réplication):\", valeurs_trimestrielles)\n"
      ],
      "metadata": {
        "id": "F1ZgwwMwH2To",
        "outputId": "9a4fa2bb-5b1e-4923-c293-a7847cfb6637",
        "colab": {
          "base_uri": "https://localhost:8080/"
        }
      },
      "execution_count": null,
      "outputs": [
        {
          "output_type": "stream",
          "name": "stdout",
          "text": [
            "Données annuelles: [100, 120, 150]\n",
            "Données trimestrielles (méthode de réplication): [25.0, 25.0, 25.0, 25.0, 30.0, 30.0, 30.0, 30.0, 37.5, 37.5, 37.5, 37.5]\n"
          ]
        }
      ]
    },
    {
      "cell_type": "code",
      "source": [
        "!pip install pywhatkit\n"
      ],
      "metadata": {
        "colab": {
          "base_uri": "https://localhost:8080/"
        },
        "id": "MzOuAj_tiLaE",
        "outputId": "769ee861-f84a-4470-b360-63f6cbe9776a"
      },
      "execution_count": null,
      "outputs": [
        {
          "output_type": "stream",
          "name": "stdout",
          "text": [
            "Looking in indexes: https://pypi.org/simple, https://us-python.pkg.dev/colab-wheels/public/simple/\n",
            "Collecting pywhatkit\n",
            "  Downloading pywhatkit-5.4-py3-none-any.whl (15 kB)\n",
            "Requirement already satisfied: Pillow in /usr/local/lib/python3.10/dist-packages (from pywhatkit) (8.4.0)\n",
            "Collecting pyautogui (from pywhatkit)\n",
            "  Downloading PyAutoGUI-0.9.53.tar.gz (59 kB)\n",
            "\u001b[2K     \u001b[90m━━━━━━━━━━━━━━━━━━━━━━━━━━━━━━━━━━━━━━━━\u001b[0m \u001b[32m59.0/59.0 kB\u001b[0m \u001b[31m2.2 MB/s\u001b[0m eta \u001b[36m0:00:00\u001b[0m\n",
            "\u001b[?25h  Preparing metadata (setup.py) ... \u001b[?25l\u001b[?25hdone\n",
            "Requirement already satisfied: requests in /usr/local/lib/python3.10/dist-packages (from pywhatkit) (2.27.1)\n",
            "Collecting wikipedia (from pywhatkit)\n",
            "  Downloading wikipedia-1.4.0.tar.gz (27 kB)\n",
            "  Preparing metadata (setup.py) ... \u001b[?25l\u001b[?25hdone\n",
            "Requirement already satisfied: Flask in /usr/local/lib/python3.10/dist-packages (from pywhatkit) (2.2.4)\n",
            "Requirement already satisfied: Werkzeug>=2.2.2 in /usr/local/lib/python3.10/dist-packages (from Flask->pywhatkit) (2.3.0)\n",
            "Requirement already satisfied: Jinja2>=3.0 in /usr/local/lib/python3.10/dist-packages (from Flask->pywhatkit) (3.1.2)\n",
            "Requirement already satisfied: itsdangerous>=2.0 in /usr/local/lib/python3.10/dist-packages (from Flask->pywhatkit) (2.1.2)\n",
            "Requirement already satisfied: click>=8.0 in /usr/local/lib/python3.10/dist-packages (from Flask->pywhatkit) (8.1.3)\n",
            "Collecting pymsgbox (from pyautogui->pywhatkit)\n",
            "  Downloading PyMsgBox-1.0.9.tar.gz (18 kB)\n",
            "  Installing build dependencies ... \u001b[?25l\u001b[?25hdone\n",
            "  Getting requirements to build wheel ... \u001b[?25l\u001b[?25hdone\n",
            "  Preparing metadata (pyproject.toml) ... \u001b[?25l\u001b[?25hdone\n",
            "Collecting PyTweening>=1.0.1 (from pyautogui->pywhatkit)\n",
            "  Downloading pytweening-1.0.7.tar.gz (168 kB)\n",
            "\u001b[2K     \u001b[90m━━━━━━━━━━━━━━━━━━━━━━━━━━━━━━━━━━━━━━━\u001b[0m \u001b[32m168.2/168.2 kB\u001b[0m \u001b[31m5.6 MB/s\u001b[0m eta \u001b[36m0:00:00\u001b[0m\n",
            "\u001b[?25h  Preparing metadata (setup.py) ... \u001b[?25l\u001b[?25hdone\n",
            "Collecting pyscreeze>=0.1.21 (from pyautogui->pywhatkit)\n",
            "  Downloading PyScreeze-0.1.28.tar.gz (25 kB)\n",
            "  Installing build dependencies ... \u001b[?25l\u001b[?25hdone\n",
            "  Getting requirements to build wheel ... \u001b[?25l\u001b[?25hdone\n",
            "  Preparing metadata (pyproject.toml) ... \u001b[?25l\u001b[?25hdone\n",
            "Collecting pygetwindow>=0.0.5 (from pyautogui->pywhatkit)\n",
            "  Downloading PyGetWindow-0.0.9.tar.gz (9.7 kB)\n",
            "  Preparing metadata (setup.py) ... \u001b[?25l\u001b[?25hdone\n",
            "Collecting mouseinfo (from pyautogui->pywhatkit)\n",
            "  Downloading MouseInfo-0.1.3.tar.gz (10 kB)\n",
            "  Preparing metadata (setup.py) ... \u001b[?25l\u001b[?25hdone\n",
            "Collecting python3-Xlib (from pyautogui->pywhatkit)\n",
            "  Downloading python3-xlib-0.15.tar.gz (132 kB)\n",
            "\u001b[2K     \u001b[90m━━━━━━━━━━━━━━━━━━━━━━━━━━━━━━━━━━━━━━\u001b[0m \u001b[32m132.8/132.8 kB\u001b[0m \u001b[31m15.6 MB/s\u001b[0m eta \u001b[36m0:00:00\u001b[0m\n",
            "\u001b[?25h  Preparing metadata (setup.py) ... \u001b[?25l\u001b[?25hdone\n",
            "Requirement already satisfied: urllib3<1.27,>=1.21.1 in /usr/local/lib/python3.10/dist-packages (from requests->pywhatkit) (1.26.15)\n",
            "Requirement already satisfied: certifi>=2017.4.17 in /usr/local/lib/python3.10/dist-packages (from requests->pywhatkit) (2022.12.7)\n",
            "Requirement already satisfied: charset-normalizer~=2.0.0 in /usr/local/lib/python3.10/dist-packages (from requests->pywhatkit) (2.0.12)\n",
            "Requirement already satisfied: idna<4,>=2.5 in /usr/local/lib/python3.10/dist-packages (from requests->pywhatkit) (3.4)\n",
            "Requirement already satisfied: beautifulsoup4 in /usr/local/lib/python3.10/dist-packages (from wikipedia->pywhatkit) (4.11.2)\n",
            "Requirement already satisfied: MarkupSafe>=2.0 in /usr/local/lib/python3.10/dist-packages (from Jinja2>=3.0->Flask->pywhatkit) (2.1.2)\n",
            "Collecting pyrect (from pygetwindow>=0.0.5->pyautogui->pywhatkit)\n",
            "  Downloading PyRect-0.2.0.tar.gz (17 kB)\n",
            "  Preparing metadata (setup.py) ... \u001b[?25l\u001b[?25hdone\n",
            "Requirement already satisfied: soupsieve>1.2 in /usr/local/lib/python3.10/dist-packages (from beautifulsoup4->wikipedia->pywhatkit) (2.4.1)\n",
            "Collecting pyperclip (from mouseinfo->pyautogui->pywhatkit)\n",
            "  Downloading pyperclip-1.8.2.tar.gz (20 kB)\n",
            "  Preparing metadata (setup.py) ... \u001b[?25l\u001b[?25hdone\n",
            "Building wheels for collected packages: pyautogui, wikipedia, pygetwindow, pyscreeze, PyTweening, mouseinfo, pymsgbox, python3-Xlib, pyperclip, pyrect\n",
            "  Building wheel for pyautogui (setup.py) ... \u001b[?25l\u001b[?25hdone\n",
            "  Created wheel for pyautogui: filename=PyAutoGUI-0.9.53-py3-none-any.whl size=36600 sha256=7c7b26596c70b8cb402c17fc0f13b528752fb300a2253615f09e5a285c947a17\n",
            "  Stored in directory: /root/.cache/pip/wheels/00/4e/de/0f11ae7571af9af4e5a9e8fa4a8ad2ad5cb6bc07ef57d843de\n",
            "  Building wheel for wikipedia (setup.py) ... \u001b[?25l\u001b[?25hdone\n",
            "  Created wheel for wikipedia: filename=wikipedia-1.4.0-py3-none-any.whl size=11680 sha256=88c42326244e58074765981550a7c3f639ae72dd0e8846cc0513744c9227b9bf\n",
            "  Stored in directory: /root/.cache/pip/wheels/5e/b6/c5/93f3dec388ae76edc830cb42901bb0232504dfc0df02fc50de\n",
            "  Building wheel for pygetwindow (setup.py) ... \u001b[?25l\u001b[?25hdone\n",
            "  Created wheel for pygetwindow: filename=PyGetWindow-0.0.9-py3-none-any.whl size=11063 sha256=928becf84c9734c2b14b8d67e89a6797ef75f28b640bec19c1039481ad22da3a\n",
            "  Stored in directory: /root/.cache/pip/wheels/02/f6/64/c5d427819f80553df2398bfecc351e94e00371c1dcb6edb24e\n",
            "  Building wheel for pyscreeze (pyproject.toml) ... \u001b[?25l\u001b[?25hdone\n",
            "  Created wheel for pyscreeze: filename=PyScreeze-0.1.28-py3-none-any.whl size=13010 sha256=04a8bbf8dca94e29e20acfdf7bd8c381f87a5d2c417cfe6a8cf0e18f8caa7bd9\n",
            "  Stored in directory: /root/.cache/pip/wheels/03/86/12/abd9680f6f63999ec0433afdbca9d26201eae26247bbbfb3a8\n",
            "  Building wheel for PyTweening (setup.py) ... \u001b[?25l\u001b[?25hdone\n",
            "  Created wheel for PyTweening: filename=pytweening-1.0.7-py3-none-any.whl size=6198 sha256=9d1672ff1202707d7b14841012a4698fa12e9f9b1db22ecc4217e12ebe97220e\n",
            "  Stored in directory: /root/.cache/pip/wheels/ae/a3/d7/36c45539416215425b3247e37b691a98a03b1db7b13b7f9632\n",
            "  Building wheel for mouseinfo (setup.py) ... \u001b[?25l\u001b[?25hdone\n",
            "  Created wheel for mouseinfo: filename=MouseInfo-0.1.3-py3-none-any.whl size=10892 sha256=5e83a877b1e7c8bba57f55c7eacaec68bf958bc24cf998a18eb808b9f8a41e7f\n",
            "  Stored in directory: /root/.cache/pip/wheels/6e/d5/27/2f1be84b3e6ccee99c82f50e3fe7fe6360dd30417109b49a72\n",
            "  Building wheel for pymsgbox (pyproject.toml) ... \u001b[?25l\u001b[?25hdone\n",
            "  Created wheel for pymsgbox: filename=PyMsgBox-1.0.9-py3-none-any.whl size=7406 sha256=ac58c6ce1889765ab551311f66be3b028540d4f1832af89257eeed78c8d6d35f\n",
            "  Stored in directory: /root/.cache/pip/wheels/b9/6a/ba/be2d7d78166ec8018c21d07241dffa54446c09652a267759ae\n",
            "  Building wheel for python3-Xlib (setup.py) ... \u001b[?25l\u001b[?25hdone\n",
            "  Created wheel for python3-Xlib: filename=python3_xlib-0.15-py3-none-any.whl size=109500 sha256=157a20a010dd399ab31fddec9683b95740368342532b8fcfe147ceca233c6f76\n",
            "  Stored in directory: /root/.cache/pip/wheels/9c/8e/c5/8a93a3415a4a2065f31750a3244db61482b9e508f04ee56e82\n",
            "  Building wheel for pyperclip (setup.py) ... \u001b[?25l\u001b[?25hdone\n",
            "  Created wheel for pyperclip: filename=pyperclip-1.8.2-py3-none-any.whl size=11124 sha256=b8a38a762a8ffeb6439c1c09e4554402900c000ddadab23df607067fd6211217\n",
            "  Stored in directory: /root/.cache/pip/wheels/04/24/fe/140a94a7f1036003ede94579e6b4227fe96c840c6f4dcbe307\n",
            "  Building wheel for pyrect (setup.py) ... \u001b[?25l\u001b[?25hdone\n",
            "  Created wheel for pyrect: filename=PyRect-0.2.0-py2.py3-none-any.whl size=11180 sha256=494987130e4e7010a2c05af0a7f09325fa57aec113310ff093f7aa554e693de3\n",
            "  Stored in directory: /root/.cache/pip/wheels/d5/4c/bd/42e4e23641afcd185d4e932784da37e6e04505da0cf3f7b832\n",
            "Successfully built pyautogui wikipedia pygetwindow pyscreeze PyTweening mouseinfo pymsgbox python3-Xlib pyperclip pyrect\n",
            "Installing collected packages: PyTweening, python3-Xlib, pyscreeze, pyrect, pyperclip, pymsgbox, pygetwindow, mouseinfo, wikipedia, pyautogui, pywhatkit\n",
            "Successfully installed PyTweening-1.0.7 mouseinfo-0.1.3 pyautogui-0.9.53 pygetwindow-0.0.9 pymsgbox-1.0.9 pyperclip-1.8.2 pyrect-0.2.0 pyscreeze-0.1.28 python3-Xlib-0.15 pywhatkit-5.4 wikipedia-1.4.0\n"
          ]
        }
      ]
    },
    {
      "cell_type": "code",
      "source": [
        "import pywhatkit as pwt"
      ],
      "metadata": {
        "colab": {
          "base_uri": "https://localhost:8080/",
          "height": 322
        },
        "id": "n7ixImOziqPv",
        "outputId": "295be2ed-c206-4c6a-fe3c-4b73206f7d97"
      },
      "execution_count": null,
      "outputs": [
        {
          "output_type": "error",
          "ename": "KeyError",
          "evalue": "ignored",
          "traceback": [
            "\u001b[0;31m---------------------------------------------------------------------------\u001b[0m",
            "\u001b[0;31mKeyError\u001b[0m                                  Traceback (most recent call last)",
            "\u001b[0;32m<ipython-input-3-162ce5290127>\u001b[0m in \u001b[0;36m<cell line: 1>\u001b[0;34m()\u001b[0m\n\u001b[0;32m----> 1\u001b[0;31m \u001b[0;32mimport\u001b[0m \u001b[0mpywhatkit\u001b[0m \u001b[0;32mas\u001b[0m \u001b[0mpwt\u001b[0m\u001b[0;34m\u001b[0m\u001b[0;34m\u001b[0m\u001b[0m\n\u001b[0m",
            "\u001b[0;32m/usr/local/lib/python3.10/dist-packages/pywhatkit/__init__.py\u001b[0m in \u001b[0;36m<module>\u001b[0;34m\u001b[0m\n\u001b[1;32m     14\u001b[0m \u001b[0;32mfrom\u001b[0m \u001b[0mpywhatkit\u001b[0m\u001b[0;34m.\u001b[0m\u001b[0mmisc\u001b[0m \u001b[0;32mimport\u001b[0m \u001b[0minfo\u001b[0m\u001b[0;34m,\u001b[0m \u001b[0mplayonyt\u001b[0m\u001b[0;34m,\u001b[0m \u001b[0msearch\u001b[0m\u001b[0;34m,\u001b[0m \u001b[0mshow_history\u001b[0m\u001b[0;34m,\u001b[0m \u001b[0mweb_screenshot\u001b[0m\u001b[0;34m\u001b[0m\u001b[0;34m\u001b[0m\u001b[0m\n\u001b[1;32m     15\u001b[0m \u001b[0;32mfrom\u001b[0m \u001b[0mpywhatkit\u001b[0m\u001b[0;34m.\u001b[0m\u001b[0msc\u001b[0m \u001b[0;32mimport\u001b[0m \u001b[0mcancel_shutdown\u001b[0m\u001b[0;34m,\u001b[0m \u001b[0mshutdown\u001b[0m\u001b[0;34m\u001b[0m\u001b[0;34m\u001b[0m\u001b[0m\n\u001b[0;32m---> 16\u001b[0;31m from pywhatkit.whats import (\n\u001b[0m\u001b[1;32m     17\u001b[0m     \u001b[0mopen_web\u001b[0m\u001b[0;34m,\u001b[0m\u001b[0;34m\u001b[0m\u001b[0;34m\u001b[0m\u001b[0m\n\u001b[1;32m     18\u001b[0m     \u001b[0msendwhatmsg\u001b[0m\u001b[0;34m,\u001b[0m\u001b[0;34m\u001b[0m\u001b[0;34m\u001b[0m\u001b[0m\n",
            "\u001b[0;32m/usr/local/lib/python3.10/dist-packages/pywhatkit/whats.py\u001b[0m in \u001b[0;36m<module>\u001b[0;34m\u001b[0m\n\u001b[1;32m      5\u001b[0m \u001b[0;32mfrom\u001b[0m \u001b[0murllib\u001b[0m\u001b[0;34m.\u001b[0m\u001b[0mparse\u001b[0m \u001b[0;32mimport\u001b[0m \u001b[0mquote\u001b[0m\u001b[0;34m\u001b[0m\u001b[0;34m\u001b[0m\u001b[0m\n\u001b[1;32m      6\u001b[0m \u001b[0;34m\u001b[0m\u001b[0m\n\u001b[0;32m----> 7\u001b[0;31m \u001b[0;32mimport\u001b[0m \u001b[0mpyautogui\u001b[0m \u001b[0;32mas\u001b[0m \u001b[0mpg\u001b[0m\u001b[0;34m\u001b[0m\u001b[0;34m\u001b[0m\u001b[0m\n\u001b[0m\u001b[1;32m      8\u001b[0m \u001b[0;34m\u001b[0m\u001b[0m\n\u001b[1;32m      9\u001b[0m \u001b[0;32mfrom\u001b[0m \u001b[0mpywhatkit\u001b[0m\u001b[0;34m.\u001b[0m\u001b[0mcore\u001b[0m \u001b[0;32mimport\u001b[0m \u001b[0mcore\u001b[0m\u001b[0;34m,\u001b[0m \u001b[0mexceptions\u001b[0m\u001b[0;34m,\u001b[0m \u001b[0mlog\u001b[0m\u001b[0;34m\u001b[0m\u001b[0;34m\u001b[0m\u001b[0m\n",
            "\u001b[0;32m/usr/local/lib/python3.10/dist-packages/pyautogui/__init__.py\u001b[0m in \u001b[0;36m<module>\u001b[0;34m\u001b[0m\n\u001b[1;32m    247\u001b[0m \u001b[0;34m\u001b[0m\u001b[0m\n\u001b[1;32m    248\u001b[0m \u001b[0;32mtry\u001b[0m\u001b[0;34m:\u001b[0m\u001b[0;34m\u001b[0m\u001b[0;34m\u001b[0m\u001b[0m\n\u001b[0;32m--> 249\u001b[0;31m     \u001b[0;32mimport\u001b[0m \u001b[0mmouseinfo\u001b[0m\u001b[0;34m\u001b[0m\u001b[0;34m\u001b[0m\u001b[0m\n\u001b[0m\u001b[1;32m    250\u001b[0m \u001b[0;34m\u001b[0m\u001b[0m\n\u001b[1;32m    251\u001b[0m     \u001b[0;32mdef\u001b[0m \u001b[0mmouseInfo\u001b[0m\u001b[0;34m(\u001b[0m\u001b[0;34m)\u001b[0m\u001b[0;34m:\u001b[0m\u001b[0;34m\u001b[0m\u001b[0;34m\u001b[0m\u001b[0m\n",
            "\u001b[0;32m/usr/local/lib/python3.10/dist-packages/mouseinfo/__init__.py\u001b[0m in \u001b[0;36m<module>\u001b[0;34m\u001b[0m\n\u001b[1;32m    221\u001b[0m             \u001b[0;32mraise\u001b[0m\u001b[0;34m\u001b[0m\u001b[0;34m\u001b[0m\u001b[0m\n\u001b[1;32m    222\u001b[0m \u001b[0;34m\u001b[0m\u001b[0m\n\u001b[0;32m--> 223\u001b[0;31m     \u001b[0m_display\u001b[0m \u001b[0;34m=\u001b[0m \u001b[0mDisplay\u001b[0m\u001b[0;34m(\u001b[0m\u001b[0mos\u001b[0m\u001b[0;34m.\u001b[0m\u001b[0menviron\u001b[0m\u001b[0;34m[\u001b[0m\u001b[0;34m'DISPLAY'\u001b[0m\u001b[0;34m]\u001b[0m\u001b[0;34m)\u001b[0m\u001b[0;34m\u001b[0m\u001b[0;34m\u001b[0m\u001b[0m\n\u001b[0m\u001b[1;32m    224\u001b[0m \u001b[0;34m\u001b[0m\u001b[0m\n\u001b[1;32m    225\u001b[0m     \u001b[0;32mdef\u001b[0m \u001b[0m_linuxPosition\u001b[0m\u001b[0;34m(\u001b[0m\u001b[0;34m)\u001b[0m\u001b[0;34m:\u001b[0m\u001b[0;34m\u001b[0m\u001b[0;34m\u001b[0m\u001b[0m\n",
            "\u001b[0;32m/usr/lib/python3.10/os.py\u001b[0m in \u001b[0;36m__getitem__\u001b[0;34m(self, key)\u001b[0m\n\u001b[1;32m    678\u001b[0m         \u001b[0;32mexcept\u001b[0m \u001b[0mKeyError\u001b[0m\u001b[0;34m:\u001b[0m\u001b[0;34m\u001b[0m\u001b[0;34m\u001b[0m\u001b[0m\n\u001b[1;32m    679\u001b[0m             \u001b[0;31m# raise KeyError with the original key value\u001b[0m\u001b[0;34m\u001b[0m\u001b[0;34m\u001b[0m\u001b[0m\n\u001b[0;32m--> 680\u001b[0;31m             \u001b[0;32mraise\u001b[0m \u001b[0mKeyError\u001b[0m\u001b[0;34m(\u001b[0m\u001b[0mkey\u001b[0m\u001b[0;34m)\u001b[0m \u001b[0;32mfrom\u001b[0m \u001b[0;32mNone\u001b[0m\u001b[0;34m\u001b[0m\u001b[0;34m\u001b[0m\u001b[0m\n\u001b[0m\u001b[1;32m    681\u001b[0m         \u001b[0;32mreturn\u001b[0m \u001b[0mself\u001b[0m\u001b[0;34m.\u001b[0m\u001b[0mdecodevalue\u001b[0m\u001b[0;34m(\u001b[0m\u001b[0mvalue\u001b[0m\u001b[0;34m)\u001b[0m\u001b[0;34m\u001b[0m\u001b[0;34m\u001b[0m\u001b[0m\n\u001b[1;32m    682\u001b[0m \u001b[0;34m\u001b[0m\u001b[0m\n",
            "\u001b[0;31mKeyError\u001b[0m: 'DISPLAY'"
          ]
        }
      ]
    },
    {
      "cell_type": "code",
      "source": [
        "import numpy as np\n",
        "import pandas as pd\n",
        "import seaborn as sns\n",
        "from scipy import stats\n",
        "from sklearn.linear_model import LinearRegression\n",
        "from sklearn.linear_model import LogisticRegression\n",
        "import matplotlib.pyplot as plt"
      ],
      "metadata": {
        "id": "a_jgoI7wBc7Z"
      },
      "execution_count": null,
      "outputs": []
    },
    {
      "cell_type": "code",
      "source": [
        "# brouillon\n",
        "Targetvariable=['salaire']\n",
        "predictor=['salembau','ancienne']"
      ],
      "metadata": {
        "id": "vWN5eRm2A50e"
      },
      "execution_count": null,
      "outputs": []
    },
    {
      "cell_type": "code",
      "source": [
        "# # pour standardiser les données selon le contexte du projet"
      ],
      "metadata": {
        "id": "9n5Pbfa_BJLo"
      },
      "execution_count": null,
      "outputs": []
    },
    {
      "cell_type": "code",
      "source": [
        "h=[letter for letter in 'humain']\n",
        "print(h)"
      ],
      "metadata": {
        "colab": {
          "base_uri": "https://localhost:8080/"
        },
        "id": "lDulwUSP-H59",
        "outputId": "dcf4c2e0-82f3-414b-c80f-8a92980a3491"
      },
      "execution_count": null,
      "outputs": [
        {
          "output_type": "stream",
          "name": "stdout",
          "text": [
            "['h', 'u', 'm', 'a', 'i', 'n']\n"
          ]
        }
      ]
    },
    {
      "cell_type": "code",
      "source": [
        "import numpy as np\n",
        "import pandas as pd\n",
        "from statsmodels.tsa.stattools import grangercausalitytests\n",
        "\n",
        "# Simuler des données (vous pouvez remplacer cela par vos propres données)\n",
        "np.random.seed(42)\n",
        "n = 100\n",
        "time_series_data = {\n",
        "    'X': np.cumsum(np.random.randn(n)),\n",
        "    'Y': np.cumsum(np.random.randn(n))\n",
        "}\n",
        "df = pd.DataFrame(time_series_data)\n",
        "\n",
        "# Définir la taille de la fenêtre\n",
        "window_size = 50\n",
        "max_lags = 2\n",
        "\n",
        "# Fonction pour appliquer le test de Granger sur des fenêtres glissantes\n",
        "def granger_causality_by_window(data, window_size, max_lags):\n",
        "    results = []\n",
        "    for start in range(len(data) - window_size + 1):\n",
        "        end = start + window_size\n",
        "        window_data = data[start:end]\n",
        "        test_result = grangercausalitytests(window_data[['Y', 'X']], max_lags, verbose=False)\n",
        "        results.append((start, end, test_result[1][0]['ssr_ftest'][1]))\n",
        "    return results\n",
        "\n",
        "# Appliquer le test par fenêtres glissantes\n",
        "results = granger_causality_by_window(df, window_size, max_lags)\n",
        "\n",
        "# Afficher les résultats\n",
        "for start, end, p_value in results:\n",
        "    print(f\"Window {start}-{end}: p-value = {p_value:.4f}\")\n"
      ],
      "metadata": {
        "id": "gyHj-iNh_y35",
        "outputId": "72ed4b8e-c087-46d0-e8da-ca02b1bc371c",
        "colab": {
          "base_uri": "https://localhost:8080/"
        }
      },
      "execution_count": null,
      "outputs": [
        {
          "output_type": "stream",
          "name": "stderr",
          "text": [
            "/usr/local/lib/python3.10/dist-packages/statsmodels/tsa/stattools.py:1545: FutureWarning: verbose is deprecated since functions should not print results\n",
            "  warnings.warn(\n",
            "/usr/local/lib/python3.10/dist-packages/statsmodels/tsa/stattools.py:1545: FutureWarning: verbose is deprecated since functions should not print results\n",
            "  warnings.warn(\n",
            "/usr/local/lib/python3.10/dist-packages/statsmodels/tsa/stattools.py:1545: FutureWarning: verbose is deprecated since functions should not print results\n",
            "  warnings.warn(\n",
            "/usr/local/lib/python3.10/dist-packages/statsmodels/tsa/stattools.py:1545: FutureWarning: verbose is deprecated since functions should not print results\n",
            "  warnings.warn(\n",
            "/usr/local/lib/python3.10/dist-packages/statsmodels/tsa/stattools.py:1545: FutureWarning: verbose is deprecated since functions should not print results\n",
            "  warnings.warn(\n",
            "/usr/local/lib/python3.10/dist-packages/statsmodels/tsa/stattools.py:1545: FutureWarning: verbose is deprecated since functions should not print results\n",
            "  warnings.warn(\n",
            "/usr/local/lib/python3.10/dist-packages/statsmodels/tsa/stattools.py:1545: FutureWarning: verbose is deprecated since functions should not print results\n",
            "  warnings.warn(\n",
            "/usr/local/lib/python3.10/dist-packages/statsmodels/tsa/stattools.py:1545: FutureWarning: verbose is deprecated since functions should not print results\n",
            "  warnings.warn(\n",
            "/usr/local/lib/python3.10/dist-packages/statsmodels/tsa/stattools.py:1545: FutureWarning: verbose is deprecated since functions should not print results\n",
            "  warnings.warn(\n",
            "/usr/local/lib/python3.10/dist-packages/statsmodels/tsa/stattools.py:1545: FutureWarning: verbose is deprecated since functions should not print results\n",
            "  warnings.warn(\n",
            "/usr/local/lib/python3.10/dist-packages/statsmodels/tsa/stattools.py:1545: FutureWarning: verbose is deprecated since functions should not print results\n",
            "  warnings.warn(\n",
            "/usr/local/lib/python3.10/dist-packages/statsmodels/tsa/stattools.py:1545: FutureWarning: verbose is deprecated since functions should not print results\n",
            "  warnings.warn(\n",
            "/usr/local/lib/python3.10/dist-packages/statsmodels/tsa/stattools.py:1545: FutureWarning: verbose is deprecated since functions should not print results\n",
            "  warnings.warn(\n",
            "/usr/local/lib/python3.10/dist-packages/statsmodels/tsa/stattools.py:1545: FutureWarning: verbose is deprecated since functions should not print results\n",
            "  warnings.warn(\n",
            "/usr/local/lib/python3.10/dist-packages/statsmodels/tsa/stattools.py:1545: FutureWarning: verbose is deprecated since functions should not print results\n",
            "  warnings.warn(\n",
            "/usr/local/lib/python3.10/dist-packages/statsmodels/tsa/stattools.py:1545: FutureWarning: verbose is deprecated since functions should not print results\n",
            "  warnings.warn(\n",
            "/usr/local/lib/python3.10/dist-packages/statsmodels/tsa/stattools.py:1545: FutureWarning: verbose is deprecated since functions should not print results\n",
            "  warnings.warn(\n",
            "/usr/local/lib/python3.10/dist-packages/statsmodels/tsa/stattools.py:1545: FutureWarning: verbose is deprecated since functions should not print results\n",
            "  warnings.warn(\n",
            "/usr/local/lib/python3.10/dist-packages/statsmodels/tsa/stattools.py:1545: FutureWarning: verbose is deprecated since functions should not print results\n",
            "  warnings.warn(\n",
            "/usr/local/lib/python3.10/dist-packages/statsmodels/tsa/stattools.py:1545: FutureWarning: verbose is deprecated since functions should not print results\n",
            "  warnings.warn(\n",
            "/usr/local/lib/python3.10/dist-packages/statsmodels/tsa/stattools.py:1545: FutureWarning: verbose is deprecated since functions should not print results\n",
            "  warnings.warn(\n",
            "/usr/local/lib/python3.10/dist-packages/statsmodels/tsa/stattools.py:1545: FutureWarning: verbose is deprecated since functions should not print results\n",
            "  warnings.warn(\n",
            "/usr/local/lib/python3.10/dist-packages/statsmodels/tsa/stattools.py:1545: FutureWarning: verbose is deprecated since functions should not print results\n",
            "  warnings.warn(\n",
            "/usr/local/lib/python3.10/dist-packages/statsmodels/tsa/stattools.py:1545: FutureWarning: verbose is deprecated since functions should not print results\n",
            "  warnings.warn(\n",
            "/usr/local/lib/python3.10/dist-packages/statsmodels/tsa/stattools.py:1545: FutureWarning: verbose is deprecated since functions should not print results\n",
            "  warnings.warn(\n",
            "/usr/local/lib/python3.10/dist-packages/statsmodels/tsa/stattools.py:1545: FutureWarning: verbose is deprecated since functions should not print results\n",
            "  warnings.warn(\n",
            "/usr/local/lib/python3.10/dist-packages/statsmodels/tsa/stattools.py:1545: FutureWarning: verbose is deprecated since functions should not print results\n",
            "  warnings.warn(\n",
            "/usr/local/lib/python3.10/dist-packages/statsmodels/tsa/stattools.py:1545: FutureWarning: verbose is deprecated since functions should not print results\n",
            "  warnings.warn(\n",
            "/usr/local/lib/python3.10/dist-packages/statsmodels/tsa/stattools.py:1545: FutureWarning: verbose is deprecated since functions should not print results\n",
            "  warnings.warn(\n",
            "/usr/local/lib/python3.10/dist-packages/statsmodels/tsa/stattools.py:1545: FutureWarning: verbose is deprecated since functions should not print results\n",
            "  warnings.warn(\n",
            "/usr/local/lib/python3.10/dist-packages/statsmodels/tsa/stattools.py:1545: FutureWarning: verbose is deprecated since functions should not print results\n",
            "  warnings.warn(\n",
            "/usr/local/lib/python3.10/dist-packages/statsmodels/tsa/stattools.py:1545: FutureWarning: verbose is deprecated since functions should not print results\n",
            "  warnings.warn(\n",
            "/usr/local/lib/python3.10/dist-packages/statsmodels/tsa/stattools.py:1545: FutureWarning: verbose is deprecated since functions should not print results\n",
            "  warnings.warn(\n",
            "/usr/local/lib/python3.10/dist-packages/statsmodels/tsa/stattools.py:1545: FutureWarning: verbose is deprecated since functions should not print results\n",
            "  warnings.warn(\n",
            "/usr/local/lib/python3.10/dist-packages/statsmodels/tsa/stattools.py:1545: FutureWarning: verbose is deprecated since functions should not print results\n",
            "  warnings.warn(\n",
            "/usr/local/lib/python3.10/dist-packages/statsmodels/tsa/stattools.py:1545: FutureWarning: verbose is deprecated since functions should not print results\n",
            "  warnings.warn(\n",
            "/usr/local/lib/python3.10/dist-packages/statsmodels/tsa/stattools.py:1545: FutureWarning: verbose is deprecated since functions should not print results\n",
            "  warnings.warn(\n",
            "/usr/local/lib/python3.10/dist-packages/statsmodels/tsa/stattools.py:1545: FutureWarning: verbose is deprecated since functions should not print results\n",
            "  warnings.warn(\n",
            "/usr/local/lib/python3.10/dist-packages/statsmodels/tsa/stattools.py:1545: FutureWarning: verbose is deprecated since functions should not print results\n",
            "  warnings.warn(\n",
            "/usr/local/lib/python3.10/dist-packages/statsmodels/tsa/stattools.py:1545: FutureWarning: verbose is deprecated since functions should not print results\n",
            "  warnings.warn(\n",
            "/usr/local/lib/python3.10/dist-packages/statsmodels/tsa/stattools.py:1545: FutureWarning: verbose is deprecated since functions should not print results\n",
            "  warnings.warn(\n",
            "/usr/local/lib/python3.10/dist-packages/statsmodels/tsa/stattools.py:1545: FutureWarning: verbose is deprecated since functions should not print results\n",
            "  warnings.warn(\n",
            "/usr/local/lib/python3.10/dist-packages/statsmodels/tsa/stattools.py:1545: FutureWarning: verbose is deprecated since functions should not print results\n",
            "  warnings.warn(\n",
            "/usr/local/lib/python3.10/dist-packages/statsmodels/tsa/stattools.py:1545: FutureWarning: verbose is deprecated since functions should not print results\n",
            "  warnings.warn(\n",
            "/usr/local/lib/python3.10/dist-packages/statsmodels/tsa/stattools.py:1545: FutureWarning: verbose is deprecated since functions should not print results\n",
            "  warnings.warn(\n",
            "/usr/local/lib/python3.10/dist-packages/statsmodels/tsa/stattools.py:1545: FutureWarning: verbose is deprecated since functions should not print results\n",
            "  warnings.warn(\n",
            "/usr/local/lib/python3.10/dist-packages/statsmodels/tsa/stattools.py:1545: FutureWarning: verbose is deprecated since functions should not print results\n",
            "  warnings.warn(\n",
            "/usr/local/lib/python3.10/dist-packages/statsmodels/tsa/stattools.py:1545: FutureWarning: verbose is deprecated since functions should not print results\n",
            "  warnings.warn(\n",
            "/usr/local/lib/python3.10/dist-packages/statsmodels/tsa/stattools.py:1545: FutureWarning: verbose is deprecated since functions should not print results\n",
            "  warnings.warn(\n",
            "/usr/local/lib/python3.10/dist-packages/statsmodels/tsa/stattools.py:1545: FutureWarning: verbose is deprecated since functions should not print results\n",
            "  warnings.warn(\n",
            "/usr/local/lib/python3.10/dist-packages/statsmodels/tsa/stattools.py:1545: FutureWarning: verbose is deprecated since functions should not print results\n",
            "  warnings.warn(\n"
          ]
        },
        {
          "output_type": "stream",
          "name": "stdout",
          "text": [
            "Window 0-50: p-value = 0.6369\n",
            "Window 1-51: p-value = 0.5903\n",
            "Window 2-52: p-value = 0.5631\n",
            "Window 3-53: p-value = 0.3413\n",
            "Window 4-54: p-value = 0.2508\n",
            "Window 5-55: p-value = 0.2164\n",
            "Window 6-56: p-value = 0.2726\n",
            "Window 7-57: p-value = 0.3593\n",
            "Window 8-58: p-value = 0.4207\n",
            "Window 9-59: p-value = 0.2968\n",
            "Window 10-60: p-value = 0.0678\n",
            "Window 11-61: p-value = 0.0170\n",
            "Window 12-62: p-value = 0.0033\n",
            "Window 13-63: p-value = 0.0511\n",
            "Window 14-64: p-value = 0.0222\n",
            "Window 15-65: p-value = 0.0595\n",
            "Window 16-66: p-value = 0.0955\n",
            "Window 17-67: p-value = 0.0759\n",
            "Window 18-68: p-value = 0.4949\n",
            "Window 19-69: p-value = 0.7215\n",
            "Window 20-70: p-value = 0.8236\n",
            "Window 21-71: p-value = 0.6146\n",
            "Window 22-72: p-value = 0.9437\n",
            "Window 23-73: p-value = 0.6814\n",
            "Window 24-74: p-value = 0.8279\n",
            "Window 25-75: p-value = 0.7018\n",
            "Window 26-76: p-value = 0.7092\n",
            "Window 27-77: p-value = 0.7286\n",
            "Window 28-78: p-value = 0.6845\n",
            "Window 29-79: p-value = 0.7271\n",
            "Window 30-80: p-value = 0.9990\n",
            "Window 31-81: p-value = 0.9476\n",
            "Window 32-82: p-value = 0.6107\n",
            "Window 33-83: p-value = 0.6068\n",
            "Window 34-84: p-value = 0.3450\n",
            "Window 35-85: p-value = 0.6867\n",
            "Window 36-86: p-value = 0.4762\n",
            "Window 37-87: p-value = 0.3516\n",
            "Window 38-88: p-value = 0.4202\n",
            "Window 39-89: p-value = 0.3411\n",
            "Window 40-90: p-value = 0.3096\n",
            "Window 41-91: p-value = 0.4326\n",
            "Window 42-92: p-value = 0.1859\n",
            "Window 43-93: p-value = 0.1580\n",
            "Window 44-94: p-value = 0.1794\n",
            "Window 45-95: p-value = 0.1839\n",
            "Window 46-96: p-value = 0.2087\n",
            "Window 47-97: p-value = 0.1974\n",
            "Window 48-98: p-value = 0.2080\n",
            "Window 49-99: p-value = 0.2024\n",
            "Window 50-100: p-value = 0.1731\n"
          ]
        }
      ]
    }
  ]
}